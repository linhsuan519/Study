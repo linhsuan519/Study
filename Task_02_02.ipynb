{
  "nbformat": 4,
  "nbformat_minor": 0,
  "metadata": {
    "colab": {
      "provenance": [],
      "authorship_tag": "ABX9TyOgufdrsh6QAdA+HHDp33jv",
      "include_colab_link": true
    },
    "kernelspec": {
      "name": "python3",
      "display_name": "Python 3"
    },
    "language_info": {
      "name": "python"
    }
  },
  "cells": [
    {
      "cell_type": "markdown",
      "metadata": {
        "id": "view-in-github",
        "colab_type": "text"
      },
      "source": [
        "<a href=\"https://colab.research.google.com/github/linhsuan519/hello-colab/blob/main/Task_02_02.ipynb\" target=\"_parent\"><img src=\"https://colab.research.google.com/assets/colab-badge.svg\" alt=\"Open In Colab\"/></a>"
      ]
    },
    {
      "cell_type": "markdown",
      "source": [
        "資料匯總"
      ],
      "metadata": {
        "id": "y5PUBWl9ru98"
      }
    },
    {
      "cell_type": "code",
      "execution_count": 6,
      "metadata": {
        "colab": {
          "base_uri": "https://localhost:8080/"
        },
        "id": "OuIr8pyArpAh",
        "outputId": "536d3dc7-94d2-4d64-cba1-bf30de0a3e10"
      },
      "outputs": [
        {
          "output_type": "stream",
          "name": "stdout",
          "text": [
            "{'Mon': 782, 'Sun': 376}\n"
          ]
        }
      ],
      "source": [
        "import pandas as pd\n",
        "import numpy as np\n",
        "\n",
        "d = [\n",
        "    {'city': 'Austin', 'visitor': 139, 'weekday': 'Sun'},\n",
        "    {'city': 'Dallas', 'visitor': 237, 'weekday': 'Sun'},\n",
        "    {'city': 'Austin', 'visitor': 326, 'weekday': 'Mon'},\n",
        "    {'city': 'Dallas', 'visitor': 456, 'weekday': 'Mon'}\n",
        "]\n",
        "df = pd.DataFrame(d)\n",
        "result = df.groupby('weekday')['visitor'].sum()\n",
        "print(result.to_dict())"
      ]
    },
    {
      "cell_type": "markdown",
      "source": [],
      "metadata": {
        "id": "cOEG8gtqruhO"
      }
    }
  ]
}