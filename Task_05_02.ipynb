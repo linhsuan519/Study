{
  "nbformat": 4,
  "nbformat_minor": 0,
  "metadata": {
    "colab": {
      "provenance": [],
      "authorship_tag": "ABX9TyMpeg/89qnGGcHC5sPb3oC9",
      "include_colab_link": true
    },
    "kernelspec": {
      "name": "python3",
      "display_name": "Python 3"
    },
    "language_info": {
      "name": "python"
    }
  },
  "cells": [
    {
      "cell_type": "markdown",
      "metadata": {
        "id": "view-in-github",
        "colab_type": "text"
      },
      "source": [
        "<a href=\"https://colab.research.google.com/github/linhsuan519/hello-colab/blob/main/Task_05_02.ipynb\" target=\"_parent\"><img src=\"https://colab.research.google.com/assets/colab-badge.svg\" alt=\"Open In Colab\"/></a>"
      ]
    },
    {
      "cell_type": "markdown",
      "source": [
        "#特徵工程的裝箱處理"
      ],
      "metadata": {
        "id": "h6U8XpQv_K-K"
      }
    },
    {
      "cell_type": "markdown",
      "source": [
        "請根據提供的資料，將原始欄位的資料切分成由 n 個類別所組成欄位。"
      ],
      "metadata": {
        "id": "UBLIY_f8_Q1L"
      }
    },
    {
      "cell_type": "code",
      "execution_count": 10,
      "metadata": {
        "colab": {
          "base_uri": "https://localhost:8080/"
        },
        "id": "-sXl1oQ4_CUl",
        "outputId": "27e43d38-e485-4c43-bea3-cc680c2b9fba"
      },
      "outputs": [
        {
          "output_type": "stream",
          "name": "stdout",
          "text": [
            "2\n",
            "            0  binned\n",
            "0   78.068579       1\n",
            "1   55.581256       0\n",
            "2   63.311964       1\n",
            "3    3.412431       0\n",
            "4   53.287036       0\n",
            "..        ...     ...\n",
            "95  30.178582       0\n",
            "96  79.930010       1\n",
            "97  54.263174       0\n",
            "98  66.719984       1\n",
            "99  65.589460       1\n",
            "\n",
            "[100 rows x 2 columns]\n"
          ]
        }
      ],
      "source": [
        "import numpy as np\n",
        "import pandas as pd\n",
        "\n",
        "df = pd.DataFrame(np.random.random(100)*100)\n",
        "n = int(input())\n",
        "\n",
        "df['binned'] = pd.qcut(df[0], q=n ,labels=False)\n",
        "print(df[[0,'binned']])"
      ]
    }
  ]
}