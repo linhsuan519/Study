{
  "nbformat": 4,
  "nbformat_minor": 0,
  "metadata": {
    "colab": {
      "provenance": [],
      "authorship_tag": "ABX9TyOFG/8jpH4+sDq5ZeCRI7VE",
      "include_colab_link": true
    },
    "kernelspec": {
      "name": "python3",
      "display_name": "Python 3"
    },
    "language_info": {
      "name": "python"
    }
  },
  "cells": [
    {
      "cell_type": "markdown",
      "metadata": {
        "id": "view-in-github",
        "colab_type": "text"
      },
      "source": [
        "<a href=\"https://colab.research.google.com/github/linhsuan519/hello-colab/blob/main/Task_03_01.ipynb\" target=\"_parent\"><img src=\"https://colab.research.google.com/assets/colab-badge.svg\" alt=\"Open In Colab\"/></a>"
      ]
    },
    {
      "cell_type": "markdown",
      "source": [
        "#靜態網頁爬蟲實作（上）"
      ],
      "metadata": {
        "id": "JZraFVtYxnxF"
      }
    },
    {
      "cell_type": "code",
      "execution_count": 8,
      "metadata": {
        "colab": {
          "base_uri": "https://localhost:8080/"
        },
        "id": "W9oVRLVLxhOY",
        "outputId": "a6027150-af83-4265-d16f-254aa8a92691"
      },
      "outputs": [
        {
          "output_type": "stream",
          "name": "stdout",
          "text": [
            "中文名稱:暗殺風暴\n",
            "英文名稱:Death Notice\n",
            "上映日期:上映日期：\n",
            "                2023-08-25\n",
            "期待度:99%\n",
            "---------------------------\n"
          ]
        }
      ],
      "source": [
        "#練習：Yahoo 奇摩電影提供最新的電影資訊、預告片、劇照、電影時刻表、明星資訊、網友期待榜、網友滿意榜、票房榜和電影相關動態。\n",
        "#請試著撰寫爬蟲程式將 Yahoo 奇摩電影中的資訊抓下來，讓你快速瀏覽比較即將上映的電影有哪些值得關注的資訊。\n",
        "\n",
        "import requests\n",
        "from bs4 import BeautifulSoup\n",
        "import re\n",
        "\n",
        "url = 'https://movies.yahoo.com.tw/movie_thisweek.html'\n",
        "r=requests.get(url)\n",
        "response=r.text\n",
        "\n",
        "from bs4 import BeautifulSoup\n",
        "d=BeautifulSoup(r.text,'html.parser')\n",
        "movie_list=d.find_all('div',class_='release_info')\n",
        "\n",
        "for movie in movie_list:\n",
        "    chinese_name=movie.find('div',class_='release_movie_name').a.text.strip()\n",
        "    english_name=movie.find('div',class_='en').text.strip()\n",
        "    release_date=movie.find('div',class_='release_movie_time').text.strip()\n",
        "    expectation=movie.find('div',class_='leveltext').span.text.strip()\n",
        "\n",
        "print(f'中文名稱:{chinese_name}')\n",
        "print(f'英文名稱:{english_name}')\n",
        "print(f'上映日期:{release_date}')\n",
        "print(f'期待度:{expectation}')\n",
        "print('---------------------------')"
      ]
    }
  ]
}