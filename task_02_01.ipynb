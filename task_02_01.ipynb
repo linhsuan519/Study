{
  "nbformat": 4,
  "nbformat_minor": 0,
  "metadata": {
    "colab": {
      "provenance": [],
      "authorship_tag": "ABX9TyMdla1TcSqE1SWHEtcRC/hv",
      "include_colab_link": true
    },
    "kernelspec": {
      "name": "python3",
      "display_name": "Python 3"
    },
    "language_info": {
      "name": "python"
    }
  },
  "cells": [
    {
      "cell_type": "markdown",
      "metadata": {
        "id": "view-in-github",
        "colab_type": "text"
      },
      "source": [
        "<a href=\"https://colab.research.google.com/github/linhsuan519/hello-colab/blob/main/task_02_01.ipynb\" target=\"_parent\"><img src=\"https://colab.research.google.com/assets/colab-badge.svg\" alt=\"Open In Colab\"/></a>"
      ]
    },
    {
      "cell_type": "code",
      "execution_count": null,
      "metadata": {
        "id": "7vFqfkF4TWd_"
      },
      "outputs": [],
      "source": [
        "import pandas as pd\n",
        "import numpy as np\n",
        "df = pd.DataFrame(np.random.randint(10, 40, 60).reshape(-1,4))\n",
        "\n",
        "# - 1. filtered by first column > 20?\n",
        "filtered_df1 = df[df.iloc[:,0] > 20]\n",
        "\n",
        "# - 2. filtered by first column + second column > 50\n",
        "filtered_df2 = df[(df.iloc[:,0]+df.iloc[:,1]) > 50]\n",
        "\n",
        "# - 3. filtered by first column < 30 or second column > 30\n",
        "filtered_df3 = df[(df.iloc[:,0] < 30)|(df.iloc[:,1] > 30)]\n",
        "\n",
        "# - 4. filtered by total sum of row > 100\n",
        "summ = df[df.sum(axis=1) > 100]"
      ]
    }
  ]
}
