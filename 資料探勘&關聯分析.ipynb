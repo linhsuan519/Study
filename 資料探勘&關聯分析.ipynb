{
  "nbformat": 4,
  "nbformat_minor": 0,
  "metadata": {
    "colab": {
      "provenance": [],
      "authorship_tag": "ABX9TyMXdT0D55BY10kJRkluL8JX",
      "include_colab_link": true
    },
    "kernelspec": {
      "name": "python3",
      "display_name": "Python 3"
    },
    "language_info": {
      "name": "python"
    }
  },
  "cells": [
    {
      "cell_type": "markdown",
      "metadata": {
        "id": "view-in-github",
        "colab_type": "text"
      },
      "source": [
        "<a href=\"https://colab.research.google.com/github/linhsuan519/hello-colab/blob/main/%E8%B3%87%E6%96%99%E6%8E%A2%E5%8B%98%26%E9%97%9C%E8%81%AF%E5%88%86%E6%9E%90.ipynb\" target=\"_parent\"><img src=\"https://colab.research.google.com/assets/colab-badge.svg\" alt=\"Open In Colab\"/></a>"
      ]
    },
    {
      "cell_type": "markdown",
      "source": [
        "# 關聯分析\n",
        "購物籃分析:通過挖掘數據集中不同項目之間的關係，發現其中的規律性，並提供給商家和消費者進一步的思路和參考。"
      ],
      "metadata": {
        "id": "9nY7fCn3vfBA"
      }
    },
    {
      "cell_type": "code",
      "execution_count": 6,
      "metadata": {
        "colab": {
          "base_uri": "https://localhost:8080/"
        },
        "id": "xRuHVdJWq66j",
        "outputId": "91d71d80-ecbd-46a7-d04a-e7c36c95eed3"
      },
      "outputs": [
        {
          "output_type": "stream",
          "name": "stdout",
          "text": [
            "   antecedents consequents   support  confidence\n",
            "12    (啤酒, 可樂)        (餅乾)  0.285714    1.000000\n",
            "8         (啤酒)        (餅乾)  0.571429    1.000000\n",
            "20    (啤酒, 花生)        (餅乾)  0.285714    1.000000\n",
            "1        (洋芋片)        (可樂)  0.285714    1.000000\n",
            "9         (餅乾)        (啤酒)  0.571429    0.800000\n",
            "10        (花生)        (餅乾)  0.428571    0.750000\n",
            "3         (花生)        (可樂)  0.428571    0.750000\n",
            "22    (花生, 餅乾)        (啤酒)  0.285714    0.666667\n",
            "14    (可樂, 餅乾)        (啤酒)  0.285714    0.666667\n",
            "16    (可樂, 花生)        (餅乾)  0.285714    0.666667\n",
            "17    (可樂, 餅乾)        (花生)  0.285714    0.666667\n",
            "18    (花生, 餅乾)        (可樂)  0.285714    0.666667\n",
            "5         (餅乾)        (可樂)  0.428571    0.600000\n",
            "4         (可樂)        (餅乾)  0.428571    0.600000\n",
            "11        (餅乾)        (花生)  0.428571    0.600000\n",
            "2         (可樂)        (花生)  0.428571    0.600000\n",
            "23        (啤酒)    (花生, 餅乾)  0.285714    0.500000\n",
            "19        (花生)    (可樂, 餅乾)  0.285714    0.500000\n",
            "21    (啤酒, 餅乾)        (花生)  0.285714    0.500000\n",
            "0         (啤酒)        (可樂)  0.285714    0.500000\n",
            "15        (啤酒)    (可樂, 餅乾)  0.285714    0.500000\n",
            "13    (啤酒, 餅乾)        (可樂)  0.285714    0.500000\n",
            "7         (花生)        (啤酒)  0.285714    0.500000\n",
            "6         (啤酒)        (花生)  0.285714    0.500000\n",
            "24        (花生)    (啤酒, 餅乾)  0.285714    0.500000\n"
          ]
        },
        {
          "output_type": "stream",
          "name": "stderr",
          "text": [
            "/usr/local/lib/python3.10/dist-packages/ipykernel/ipkernel.py:283: DeprecationWarning: `should_run_async` will not call `transform_cell` automatically in the future. Please pass the result to `transformed_cell` argument and any exception that happen during thetransform in `preprocessing_exc_tuple` in IPython 7.17 and above.\n",
            "  and should_run_async(code)\n",
            "/usr/local/lib/python3.10/dist-packages/mlxtend/frequent_patterns/fpcommon.py:110: DeprecationWarning: DataFrames with non-bool types result in worse computationalperformance and their support might be discontinued in the future.Please use a DataFrame with bool type\n",
            "  warnings.warn(\n"
          ]
        }
      ],
      "source": [
        "import pandas as pd\n",
        "from mlxtend.frequent_patterns import apriori\n",
        "from mlxtend.frequent_patterns import association_rules\n",
        "\n",
        "# 載入資料集\n",
        "data = {\n",
        "    '顧客 ID': ['A', 'A', 'B', 'B', 'B', 'C', 'C', 'C', 'C', 'D', 'D', 'D', 'D', 'E', 'E', 'E', 'F', 'F', 'G', 'G'],\n",
        "    '商品名稱': ['可樂', '洋芋片', '啤酒', '花生', '餅乾', '可樂', '洋芋片', '花生', '餅乾', '可樂', '啤酒', '花生', '餅乾', '可樂', '啤酒', '餅乾', '可樂', '花生', '啤酒', '餅乾'],\n",
        "    '購買日期': ['2022/01/01', '2022/01/01', '2022/01/02', '2022/01/02', '2022/01/02', '2022/01/03', '2022/01/03', '2022/01/03', '2022/01/03', '2022/01/04', '2022/01/04', '2022/01/04', '2022/01/04', '2022/01/05', '2022/01/05', '2022/01/05', '2022/01/06', '2022/01/06', '2022/01/07', '2022/01/07']\n",
        "}\n",
        "df = pd.DataFrame(data)\n",
        "\n",
        "# 將資料集按照顧客 ID 及商品名稱進行分組\n",
        "grouped = df.groupby(['顧客 ID', '商品名稱'])['購買日期'].count().reset_index()\n",
        "\n",
        "# 關聯分析\n",
        "\n",
        "# 將資料集轉換成 one-hot 編碼\n",
        "hot_encoded = grouped.pivot(index='顧客 ID', columns='商品名稱', values='購買日期').fillna(0)\n",
        "\n",
        "# 進行 Apriori 演算法分析\n",
        "frequent_itemsets = apriori(hot_encoded, min_support=0.2, use_colnames=True)\n",
        "rules = association_rules(frequent_itemsets, metric='confidence', min_threshold=0.5)\n",
        "\n",
        "# 按照信賴度排序並輸出結果\n",
        "rules.sort_values('confidence', ascending=False, inplace=True)\n",
        "print(rules[['antecedents', 'consequents', 'support', 'confidence']])\n",
        "\n",
        "# upport（支持度）：指資料集中包含該商品（或商品組合）的交易次數與總交易次數之比。簡單來說，就是該商品（或商品組合）在所有交易中的出現頻率。例如，如果一個商品組合在所有交易中出現了 10 次，而總交易次數為 100 次，則該商品組合的支持度為 0.1，即 10/100。\n",
        "\n",
        "# Confidence（置信度）：指包含前提的交易也包含結論的交易所佔的比例。簡單來說，就是購買了前提商品（或商品組合）的交易中，也購買了結論商品（或商品組合）的交易占比。例如，在所有購買了商品 A 的交易中，有 60% 的交易也購買了商品 B，則商品 A 和商品 B 的置信度為 0.6。\n"
      ]
    }
  ]
}