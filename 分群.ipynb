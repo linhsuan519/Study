{
  "nbformat": 4,
  "nbformat_minor": 0,
  "metadata": {
    "colab": {
      "provenance": [],
      "authorship_tag": "ABX9TyMIn33LOr1FsfA8s4tmX3sv",
      "include_colab_link": true
    },
    "kernelspec": {
      "name": "python3",
      "display_name": "Python 3"
    },
    "language_info": {
      "name": "python"
    }
  },
  "cells": [
    {
      "cell_type": "markdown",
      "metadata": {
        "id": "view-in-github",
        "colab_type": "text"
      },
      "source": [
        "<a href=\"https://colab.research.google.com/github/linhsuan519/hello-colab/blob/main/%E5%88%86%E7%BE%A4.ipynb\" target=\"_parent\"><img src=\"https://colab.research.google.com/assets/colab-badge.svg\" alt=\"Open In Colab\"/></a>"
      ]
    },
    {
      "cell_type": "markdown",
      "source": [],
      "metadata": {
        "id": "YbGxY4FexTfj"
      }
    },
    {
      "cell_type": "code",
      "execution_count": 1,
      "metadata": {
        "colab": {
          "base_uri": "https://localhost:8080/",
          "height": 608
        },
        "id": "97rYflsUwLuR",
        "outputId": "399db02d-5901-4230-e1f0-d80f91f30e90"
      },
      "outputs": [
        {
          "output_type": "stream",
          "name": "stdout",
          "text": [
            "===== 原始資料 =====\n"
          ]
        },
        {
          "output_type": "stream",
          "name": "stderr",
          "text": [
            "/usr/local/lib/python3.10/dist-packages/sklearn/cluster/_kmeans.py:870: FutureWarning: The default value of `n_init` will change from 10 to 'auto' in 1.4. Set the value of `n_init` explicitly to suppress the warning\n",
            "  warnings.warn(\n",
            "/usr/local/lib/python3.10/dist-packages/sklearn/cluster/_kmeans.py:870: FutureWarning: The default value of `n_init` will change from 10 to 'auto' in 1.4. Set the value of `n_init` explicitly to suppress the warning\n",
            "  warnings.warn(\n",
            "/usr/local/lib/python3.10/dist-packages/sklearn/cluster/_kmeans.py:870: FutureWarning: The default value of `n_init` will change from 10 to 'auto' in 1.4. Set the value of `n_init` explicitly to suppress the warning\n",
            "  warnings.warn(\n"
          ]
        },
        {
          "output_type": "display_data",
          "data": {
            "text/plain": [
              "<Figure size 640x480 with 3 Axes>"
            ],
            "image/png": "[encoded data removed]"
          },
          "metadata": {}
        }
      ],
      "source": [
        "import numpy as np\n",
        "import pandas as pd\n",
        "import matplotlib.pyplot as plt\n",
        "from sklearn.cluster import KMeans\n",
        "\n",
        "X = np.array([[1, 2], [1, 4], [1, 0],\n",
        "              [4, 2], [4, 4], [4, 0]])\n",
        "\n",
        "print('===== 原始資料 =====')\n",
        "df = pd.DataFrame(X)\n",
        "\n",
        "# k=3 groups\n",
        "kmeans = KMeans(n_clusters=3)\n",
        "kmeans.fit(X)\n",
        "k3 = kmeans.predict(X)\n",
        "\n",
        "# k=4 groups\n",
        "kmeans = KMeans(n_clusters=4)\n",
        "kmeans.fit(X)\n",
        "k4 = kmeans.predict(X)\n",
        "\n",
        "# k=5 groups\n",
        "kmeans = KMeans(n_clusters=5)\n",
        "kmeans.fit(X)\n",
        "k5 = kmeans.predict(X)\n",
        "\n",
        "# 分群後看各群的分佈\n",
        "plt.subplot(131)\n",
        "plt.title('KMeans=3 groups')\n",
        "plt.scatter(X.T[0], X.T[1], c=k3, cmap=plt.cm.Set1)\n",
        "\n",
        "plt.subplot(132)\n",
        "plt.title('KMeans=4 groups')\n",
        "plt.scatter(X.T[0], X.T[1], c=k4, cmap=plt.cm.Set1)\n",
        "\n",
        "plt.subplot(133)\n",
        "plt.title('KMeans=5 groups')\n",
        "plt.scatter(X.T[0], X.T[1], c=k5, cmap=plt.cm.Set1)\n",
        "\n",
        "plt.tight_layout()\n",
        "plt.show()\n",
        "\n",
        "# 我認為分三群的結果比較好，因為不管是兩個點間的垂直或水平的距離都是2。"
      ]
    },
    {
      "cell_type": "code",
      "source": [
        "n = [3,4,5]\n",
        "\n",
        "for i in n:\n",
        "    model = KMeans(n_clusters=i)\n",
        "    model.fit(X)\n",
        "    y_pred = model.predict(X)\n",
        "    print(f'========kmeans分為{i}類========')\n",
        "    print(pd.DataFrame(y_pred))"
      ],
      "metadata": {
        "colab": {
          "base_uri": "https://localhost:8080/"
        },
        "id": "vFjKMpihxoEt",
        "outputId": "724d52e1-ad5e-454c-d4cb-3e55fd12c14f"
      },
      "execution_count": 2,
      "outputs": [
        {
          "output_type": "stream",
          "name": "stderr",
          "text": [
            "/usr/local/lib/python3.10/dist-packages/sklearn/cluster/_kmeans.py:870: FutureWarning: The default value of `n_init` will change from 10 to 'auto' in 1.4. Set the value of `n_init` explicitly to suppress the warning\n",
            "  warnings.warn(\n",
            "/usr/local/lib/python3.10/dist-packages/sklearn/cluster/_kmeans.py:870: FutureWarning: The default value of `n_init` will change from 10 to 'auto' in 1.4. Set the value of `n_init` explicitly to suppress the warning\n",
            "  warnings.warn(\n"
          ]
        },
        {
          "output_type": "stream",
          "name": "stdout",
          "text": [
            "========kmeans分為3類========\n",
            "   0\n",
            "0  1\n",
            "1  1\n",
            "2  1\n",
            "3  2\n",
            "4  2\n",
            "5  0\n",
            "========kmeans分為4類========\n",
            "   0\n",
            "0  0\n",
            "1  3\n",
            "2  0\n",
            "3  1\n",
            "4  1\n",
            "5  2\n",
            "========kmeans分為5類========\n",
            "   0\n",
            "0  0\n",
            "1  0\n",
            "2  3\n",
            "3  4\n",
            "4  1\n",
            "5  2\n"
          ]
        },
        {
          "output_type": "stream",
          "name": "stderr",
          "text": [
            "/usr/local/lib/python3.10/dist-packages/sklearn/cluster/_kmeans.py:870: FutureWarning: The default value of `n_init` will change from 10 to 'auto' in 1.4. Set the value of `n_init` explicitly to suppress the warning\n",
            "  warnings.warn(\n"
          ]
        }
      ]
    }
  ]
}