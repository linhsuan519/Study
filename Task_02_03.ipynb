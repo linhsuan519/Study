{
  "nbformat": 4,
  "nbformat_minor": 0,
  "metadata": {
    "colab": {
      "provenance": [],
      "authorship_tag": "ABX9TyPpbz+p6GhfnRIWJk3J35S0",
      "include_colab_link": true
    },
    "kernelspec": {
      "name": "python3",
      "display_name": "Python 3"
    },
    "language_info": {
      "name": "python"
    }
  },
  "cells": [
    {
      "cell_type": "markdown",
      "metadata": {
        "id": "view-in-github",
        "colab_type": "text"
      },
      "source": [
        "<a href=\"https://colab.research.google.com/github/linhsuan519/hello-colab/blob/main/Task_02_03.ipynb\" target=\"_parent\"><img src=\"https://colab.research.google.com/assets/colab-badge.svg\" alt=\"Open In Colab\"/></a>"
      ]
    },
    {
      "cell_type": "markdown",
      "source": [
        "#檔案串接與資料存取"
      ],
      "metadata": {
        "id": "pkupIhPOvr0N"
      }
    },
    {
      "cell_type": "code",
      "source": [
        "#練習：我們使用來自於社群整理的醫事機構整理的公開資料，該資料包含醫事機構代碼、醫事機構名稱以及地址等資訊。\n",
        "#請嘗試用 Pandas 存取來自於檔案來源的資料，並且計算每個縣市的醫事機構數量並且排序前五高縣市為何。\n",
        "\n",
        "import pandas as pd\n",
        "url = 'https://raw.githubusercontent.com/kiang/pharmacies/master/data.csv'\n",
        "df = pd.read_csv(url)\n",
        "grouped = df.groupby('縣市')['醫事機構代碼'].count()\n",
        "top5=grouped.sort_values(ascending=False).head(5)\n",
        "display(top5)"
      ],
      "metadata": {
        "colab": {
          "base_uri": "https://localhost:8080/",
          "height": 272
        },
        "id": "a_PYKL_WvvTG",
        "outputId": "e6a0e4ce-94e7-43bc-fbb8-1b448af135e9"
      },
      "execution_count": 7,
      "outputs": [
        {
          "output_type": "display_data",
          "data": {
            "text/plain": [
              "縣市\n",
              "新北市    1256\n",
              "臺中市     855\n",
              "臺北市     780\n",
              "高雄市     718\n",
              "桃園市     670\n",
              "Name: 醫事機構代碼, dtype: int64"
            ]
          },
          "metadata": {}
        },
        {
          "output_type": "stream",
          "name": "stdout",
          "text": [
            "縣市\n",
            "新北市    1256\n",
            "臺中市     855\n",
            "臺北市     780\n",
            "高雄市     718\n",
            "桃園市     670\n",
            "Name: 醫事機構代碼, dtype: int64\n"
          ]
        }
      ]
    }
  ]
}