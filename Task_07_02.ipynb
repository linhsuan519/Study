{
  "nbformat": 4,
  "nbformat_minor": 0,
  "metadata": {
    "colab": {
      "provenance": [],
      "authorship_tag": "ABX9TyMWhnQfGLpmzNPpRtyTwFfh",
      "include_colab_link": true
    },
    "kernelspec": {
      "name": "python3",
      "display_name": "Python 3"
    },
    "language_info": {
      "name": "python"
    }
  },
  "cells": [
    {
      "cell_type": "markdown",
      "metadata": {
        "id": "view-in-github",
        "colab_type": "text"
      },
      "source": [
        "<a href=\"https://colab.research.google.com/github/linhsuan519/hello-colab/blob/main/Task_07_02.ipynb\" target=\"_parent\"><img src=\"https://colab.research.google.com/assets/colab-badge.svg\" alt=\"Open In Colab\"/></a>"
      ]
    },
    {
      "cell_type": "markdown",
      "source": [
        "練習：請將給定的原始資料計算出「每一個 Team」對應「每一個 Year」出現的次數："
      ],
      "metadata": {
        "id": "GYS_I7aJowS2"
      }
    },
    {
      "cell_type": "code",
      "execution_count": 2,
      "metadata": {
        "colab": {
          "base_uri": "https://localhost:8080/"
        },
        "id": "ESbxEbfroujZ",
        "outputId": "74744f6d-a00e-4688-ab43-3ba143d2be02"
      },
      "outputs": [
        {
          "output_type": "stream",
          "name": "stdout",
          "text": [
            "Team  Devils  Kings  Riders  Royals  kings\n",
            "Year                                      \n",
            "2014     1.0    1.0     1.0     1.0    NaN\n",
            "2015     1.0    NaN     1.0     1.0    1.0\n",
            "2016     NaN    1.0     1.0     NaN    NaN\n",
            "2017     NaN    1.0     1.0     NaN    NaN\n"
          ]
        }
      ],
      "source": [
        "import numpy as np\n",
        "import pandas as pd\n",
        "\n",
        "ipl_data = {\n",
        "    'Team': ['Riders', 'Riders', 'Devils', 'Devils', 'Kings',\n",
        "    'kings', 'Kings', 'Kings', 'Riders', 'Royals', 'Royals', 'Riders'],\n",
        "    'Rank': [1, 2, 2, 3, 3,4 ,1 ,1,2 , 4,1,2],\n",
        "    'Year': [2014,2015,2014,2015,2014,2015,2016,2017,2016,2014,2015,2017],\n",
        "    'Points':[876,789,863,673,741,812,756,788,694,701,804,690]\n",
        "}\n",
        "df = pd.DataFrame(ipl_data)\n",
        "count_data = df.pivot_table(index='Year', columns='Team', values='Rank', aggfunc={'Rank':'count'})\n",
        "print(count_data)\n",
        "\n",
        "\n",
        "\n",
        "\n",
        "\n"
      ]
    }
  ]
}