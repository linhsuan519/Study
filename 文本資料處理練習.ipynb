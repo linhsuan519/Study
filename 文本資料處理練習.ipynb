{
  "nbformat": 4,
  "nbformat_minor": 0,
  "metadata": {
    "colab": {
      "provenance": [],
      "authorship_tag": "ABX9TyP20QwdFwJclTFcWWm4ds/B",
      "include_colab_link": true
    },
    "kernelspec": {
      "name": "python3",
      "display_name": "Python 3"
    },
    "language_info": {
      "name": "python"
    }
  },
  "cells": [
    {
      "cell_type": "markdown",
      "metadata": {
        "id": "view-in-github",
        "colab_type": "text"
      },
      "source": [
        "<a href=\"https://colab.research.google.com/github/linhsuan519/Study/blob/main/%E6%96%87%E6%9C%AC%E8%B3%87%E6%96%99%E8%99%95%E7%90%86%E7%B7%B4%E7%BF%92.ipynb\" target=\"_parent\"><img src=\"https://colab.research.google.com/assets/colab-badge.svg\" alt=\"Open In Colab\"/></a>"
      ]
    },
    {
      "cell_type": "code",
      "execution_count": 1,
      "metadata": {
        "colab": {
          "base_uri": "https://localhost:8080/"
        },
        "id": "jsEzT9Idpt4Y",
        "outputId": "8b7fdaf7-41a3-432c-c087-002296216d29"
      },
      "outputs": [
        {
          "output_type": "stream",
          "name": "stderr",
          "text": [
            "Building prefix dict from the default dictionary ...\n",
            "DEBUG:jieba:Building prefix dict from the default dictionary ...\n",
            "Dumping model to file cache /tmp/jieba.cache\n",
            "DEBUG:jieba:Dumping model to file cache /tmp/jieba.cache\n",
            "Loading model cost 2.981 seconds.\n",
            "DEBUG:jieba:Loading model cost 2.981 seconds.\n",
            "Prefix dict has been built successfully.\n",
            "DEBUG:jieba:Prefix dict has been built successfully.\n"
          ]
        },
        {
          "output_type": "stream",
          "name": "stdout",
          "text": [
            "我 r\n",
            "喜歡 v\n",
            "用 p\n",
            "Python eng\n",
            "編程 n\n"
          ]
        }
      ],
      "source": [
        "import jieba.posseg as pseg\n",
        "\n",
        "text = '我喜歡用Python編程'\n",
        "words = pseg.cut(text)\n",
        "for word, pos in words:\n",
        "    print(word, pos)"
      ]
    },
    {
      "cell_type": "code",
      "source": [
        "\n",
        "import jieba.analyse\n",
        "\n",
        "text = '我喜歡用Python編程'\n",
        "keywords = jieba.analyse.extract_tags(text, topK=3)\n",
        "print(keywords)"
      ],
      "metadata": {
        "colab": {
          "base_uri": "https://localhost:8080/"
        },
        "id": "DcuOoX4Sp-OX",
        "outputId": "f691b883-204e-44c4-c2ba-5d5fd8456251"
      },
      "execution_count": 10,
      "outputs": [
        {
          "output_type": "stream",
          "name": "stdout",
          "text": [
            "['我喜', '歡用', 'Python']\n"
          ]
        }
      ]
    },
    {
      "cell_type": "code",
      "source": [
        "## documents & query 比較\n",
        "from gensim import corpora, models, similarities\n",
        "\n",
        "# 定義文檔列表\n",
        "documents = [\n",
        "    \"The quick brown fox jumps over the lazy dog\",\n",
        "    \"A king's breakfast has sausages, ham, bacon, eggs, toast and beans\",\n",
        "    \"I love Python and machine learning\"\n",
        "]\n",
        "\n",
        "# 將每個文檔轉換為小寫並拆分成單詞，生成一個二維列表 `texts`\n",
        "texts = [[word for word in document.lower().split()] for document in documents]\n",
        "\n",
        "# 建立詞典，將文本映射到唯一的ID\n",
        "dictionary = corpora.Dictionary(texts)\n",
        "\n",
        "# 將每個文檔轉換為詞袋（bag-of-words）模型，表示為 (token_id, token_count) 元組的列表\n",
        "corpus = [dictionary.doc2bow(text) for text in texts]\n",
        "\n",
        "# 創建 TF-IDF 模型，基於詞袋模型 `corpus`\n",
        "tfidf = models.TfidfModel(corpus)\n",
        "\n",
        "# 創建稀疏矩陣相似度索引，用於計算文件之間的相似度\n",
        "index = similarities.SparseMatrixSimilarity(tfidf[corpus], num_features=len(dictionary))\n",
        "\n",
        "# 定義查詢文檔\n",
        "query = \"Python and machine learning\"\n",
        "\n",
        "# 將查詢文檔轉換為小寫並拆分成單詞，然後轉換為詞袋模型表示\n",
        "query_bow = dictionary.doc2bow(query.lower().split())\n",
        "\n",
        "# 使用 TF-IDF 模型轉換查詢文檔為 TF-IDF 表示，並計算與語料庫中每個文檔的相似度\n",
        "sims = index[tfidf[query_bow]]\n",
        "\n",
        "# 列印相似度分數，顯示每個文檔與查詢文檔的相似度\n",
        "print(list(enumerate(sims)))"
      ],
      "metadata": {
        "colab": {
          "base_uri": "https://localhost:8080/"
        },
        "id": "PrT4THZtrjBY",
        "outputId": "62f1e5fa-d03e-402e-9ff1-71ae0183f1e2"
      },
      "execution_count": 13,
      "outputs": [
        {
          "output_type": "stream",
          "name": "stdout",
          "text": [
            "[(0, 0.0), (1, 0.024158917), (2, 0.78141415)]\n"
          ]
        }
      ]
    }
  ]
}